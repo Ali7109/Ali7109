{
  "cells": [
    {
      "cell_type": "markdown",
      "metadata": {
        "id": "view-in-github",
        "colab_type": "text"
      },
      "source": [
        "<a href=\"https://colab.research.google.com/github/Ali7109/Ali7109/blob/main/SpotifyStreamPrediction.ipynb\" target=\"_parent\"><img src=\"https://colab.research.google.com/assets/colab-badge.svg\" alt=\"Open In Colab\"/></a>"
      ]
    },
    {
      "cell_type": "markdown",
      "source": [
        "# Spotify Stream Prediction (Linear)\n",
        "Explore the intriguing world of Spotify stream prediction in our project, \"Spotify Stream Prediction (Linear),\" where we investigate the connection between a song's 'speechiness' and its popularity."
      ],
      "metadata": {
        "id": "0OfidTrkKEOl"
      }
    },
    {
      "cell_type": "code",
      "execution_count": null,
      "metadata": {
        "id": "p17gD3Gr655K"
      },
      "outputs": [],
      "source": [
        "import os\n",
        "os.environ['KAGGLE_CONFIG_DIR'] = \"/content/gdrive/My Drive/Kaggle\""
      ]
    },
    {
      "cell_type": "markdown",
      "metadata": {
        "id": "5lU3E7pW80Qo"
      },
      "source": [
        "# **Kaggle Import**"
      ]
    },
    {
      "cell_type": "code",
      "execution_count": null,
      "metadata": {
        "colab": {
          "base_uri": "https://localhost:8080/"
        },
        "id": "rmHKrZeu7t8Z",
        "outputId": "9d65fb0b-c13e-40f1-a844-82ac9a22597b"
      },
      "outputs": [
        {
          "output_type": "stream",
          "name": "stdout",
          "text": [
            "Downloading top-spotify-songs-2023.zip to /content\n",
            "\r  0% 0.00/47.1k [00:00<?, ?B/s]\n",
            "\r100% 47.1k/47.1k [00:00<00:00, 75.8MB/s]\n"
          ]
        }
      ],
      "source": [
        "!kaggle datasets download -d nelgiriyewithana/top-spotify-songs-2023"
      ]
    },
    {
      "cell_type": "code",
      "execution_count": null,
      "metadata": {
        "colab": {
          "base_uri": "https://localhost:8080/"
        },
        "id": "GHCDAWRe7yOa",
        "outputId": "4b2314d4-2146-4ff9-d121-1b8b1ab5bbee"
      },
      "outputs": [
        {
          "name": "stdout",
          "output_type": "stream",
          "text": [
            "Archive:  top-spotify-songs-2023.zip\n",
            "  inflating: spotify-2023.csv        \n"
          ]
        }
      ],
      "source": [
        "!unzip \\*.zip && rm *.zip"
      ]
    },
    {
      "cell_type": "markdown",
      "metadata": {
        "id": "hMPm2bdt9D6R"
      },
      "source": [
        "# **PROJECT INITIALIZATION**"
      ]
    },
    {
      "cell_type": "code",
      "execution_count": null,
      "metadata": {
        "colab": {
          "base_uri": "https://localhost:8080/"
        },
        "id": "YntUjFT98Ang",
        "outputId": "6de4115e-1d21-4b1c-c6c0-35a82b29ebde"
      },
      "outputs": [
        {
          "output_type": "stream",
          "name": "stdout",
          "text": [
            "  \u001b[1;31merror\u001b[0m: \u001b[1msubprocess-exited-with-error\u001b[0m\n",
            "  \n",
            "  \u001b[31m×\u001b[0m \u001b[32mpython setup.py egg_info\u001b[0m did not run successfully.\n",
            "  \u001b[31m│\u001b[0m exit code: \u001b[1;36m1\u001b[0m\n",
            "  \u001b[31m╰─>\u001b[0m See above for output.\n",
            "  \n",
            "  \u001b[1;35mnote\u001b[0m: This error originates from a subprocess, and is likely not a problem with pip.\n",
            "  Preparing metadata (setup.py) ... \u001b[?25l\u001b[?25herror\n",
            "\u001b[1;31merror\u001b[0m: \u001b[1mmetadata-generation-failed\u001b[0m\n",
            "\n",
            "\u001b[31m×\u001b[0m Encountered error while generating package metadata.\n",
            "\u001b[31m╰─>\u001b[0m See above for output.\n",
            "\n",
            "\u001b[1;35mnote\u001b[0m: This is an issue with the package mentioned above, not pip.\n",
            "\u001b[1;36mhint\u001b[0m: See above for details.\n"
          ]
        }
      ],
      "source": [
        "!pip install -q sklearn"
      ]
    },
    {
      "cell_type": "code",
      "execution_count": null,
      "metadata": {
        "id": "eYxpk42S8WmB"
      },
      "outputs": [],
      "source": [
        "from __future__ import absolute_import, division, print_function, unicode_literals\n",
        "\n",
        "import numpy as np\n",
        "import pandas as pd\n",
        "import matplotlib.pyplot as plt\n",
        "from IPython.display import clear_output\n",
        "from six.moves import urllib\n",
        "\n",
        "import tensorflow.compat.v2.feature_column as fc\n",
        "\n",
        "import tensorflow as tf"
      ]
    },
    {
      "cell_type": "markdown",
      "metadata": {
        "id": "2EBvzxI88jZT"
      },
      "source": [
        "# **Project Start**\n",
        "\n",
        "Initialization complete.\n",
        "This is assisting logic from this point on."
      ]
    },
    {
      "cell_type": "code",
      "execution_count": null,
      "metadata": {
        "colab": {
          "base_uri": "https://localhost:8080/"
        },
        "id": "6i_uMI1i9jhp",
        "outputId": "c7d33a35-a88c-43f5-ab8b-7011d2617a77"
      },
      "outputs": [
        {
          "output_type": "stream",
          "name": "stdout",
          "text": [
            "/content/gdrive/MyDrive/Kaggle\n"
          ]
        }
      ],
      "source": [
        "%pwd\n",
        "%cd /content/gdrive/MyDrive/Kaggle/"
      ]
    },
    {
      "cell_type": "code",
      "source": [
        "from sklearn.preprocessing import MinMaxScaler\n"
      ],
      "metadata": {
        "id": "Wjc_M-9F1WTN"
      },
      "execution_count": null,
      "outputs": []
    },
    {
      "cell_type": "code",
      "execution_count": null,
      "metadata": {
        "id": "NXCloMnk9aVh"
      },
      "outputs": [],
      "source": [
        "df_train = pd.read_csv(\"/content/gdrive/MyDrive/Kaggle/spotify-2023.csv\", encoding=\"ISO-8859-1\")\n",
        "df_eval = pd.read_csv(\"/content/gdrive/MyDrive/Kaggle/spotify-2023.csv\", encoding=\"ISO-8859-1\")\n",
        "columns_to_check = [\n",
        "    'artist_count', 'released_month', 'released_day', 'in_spotify_playlists',\n",
        "    'in_spotify_charts', 'in_apple_playlists', 'in_apple_charts', 'in_deezer_playlists',\n",
        "    'in_deezer_charts', 'in_shazam_charts', 'bpm', 'key', 'mode', 'danceability_%',\n",
        "    'valence_%', 'energy_%', 'acousticness_%', 'instrumentalness_%', 'liveness_%', 'track_name', 'artist(s)_name',\n",
        "    'released_year'\n",
        "]\n",
        "\n",
        "for column in columns_to_check:\n",
        "  df_eval.pop(column)\n",
        "  df_train.pop(column)\n",
        "\n",
        "df_train['speechiness_%'] = pd.to_numeric(df_train['speechiness_%'], errors='coerce')\n",
        "df_train['streams'] = pd.to_numeric(df_train['streams'], errors='coerce')\n",
        "\n",
        "df_eval['speechiness_%'] = pd.to_numeric(df_eval['speechiness_%'], errors='coerce')\n",
        "df_eval['streams'] = pd.to_numeric(df_eval['streams'], errors='coerce')\n",
        "\n",
        "# Fill NaN values\n",
        "df_train = df_train.fillna(0)\n",
        "df_eval = df_eval.fillna(0)\n",
        "\n",
        "scaler = MinMaxScaler()\n",
        "\n",
        "df_train[['speechiness_%', 'streams']] = scaler.fit_transform(df_train[['speechiness_%', 'streams']])\n",
        "df_eval[['speechiness_%', 'streams']] = scaler.transform(df_eval[['speechiness_%', 'streams']])\n",
        "\n",
        "y_train = df_train.pop(\"streams\")\n",
        "y_eval = df_eval.pop(\"streams\")\n"
      ]
    },
    {
      "cell_type": "code",
      "execution_count": null,
      "metadata": {
        "colab": {
          "base_uri": "https://localhost:8080/"
        },
        "id": "5TsjLWTABISf",
        "outputId": "df03f408-517d-45f6-ae60-55160d488a59"
      },
      "outputs": [
        {
          "output_type": "stream",
          "name": "stderr",
          "text": [
            "WARNING:tensorflow:From <ipython-input-12-a33b1249c448>:5: numeric_column (from tensorflow.python.feature_column.feature_column_v2) is deprecated and will be removed in a future version.\n",
            "Instructions for updating:\n",
            "Use Keras preprocessing layers instead, either directly or via the `tf.keras.utils.FeatureSpace` utility. Each of `tf.feature_column.*` has a functional equivalent in `tf.keras.layers` for feature preprocessing when training a Keras model.\n"
          ]
        },
        {
          "output_type": "stream",
          "name": "stdout",
          "text": [
            "[NumericColumn(key='speechiness_%', shape=(1,), default_value=None, dtype=tf.float32, normalizer_fn=None)]\n"
          ]
        }
      ],
      "source": [
        "# Display the styled DataFrame\n",
        "\n",
        "NUMERIC_COLUMNS = ['speechiness_%']\n",
        "\n",
        "feature_columns = [tf.feature_column.numeric_column(feature_name, dtype=tf.float32) for feature_name in NUMERIC_COLUMNS]\n",
        "\n",
        "print(feature_columns)"
      ]
    },
    {
      "cell_type": "code",
      "execution_count": null,
      "metadata": {
        "colab": {
          "base_uri": "https://localhost:8080/"
        },
        "id": "yPMXj-OvGzst",
        "outputId": "4752170f-cb3a-4afd-b1d1-8995c679069b"
      },
      "outputs": [
        {
          "output_type": "stream",
          "name": "stdout",
          "text": [
            "{'average_loss': 0.023462692, 'label/mean': 0.13866426, 'loss': 0.023330241, 'prediction/mean': 0.119712114, 'global_step': 300}\n"
          ]
        }
      ],
      "source": [
        "\n",
        "\n",
        "def make_input_fn(data_df, label_df, num_epochs=10, shuffle=True, batch_size=32):\n",
        "  def input_function():\n",
        "    features = dict(data_df)\n",
        "    ds = tf.data.Dataset.from_tensor_slices((features, label_df))\n",
        "    if shuffle:\n",
        "      ds = ds.shuffle(1000)\n",
        "    ds = ds.batch(batch_size).repeat(num_epochs)\n",
        "\n",
        "    return ds\n",
        "  return input_function\n",
        "\n",
        "\n",
        "train_input_fn = make_input_fn(df_train, y_train)\n",
        "eval_input_fn = make_input_fn(df_eval, y_eval, num_epochs=1, shuffle=False)\n",
        "\n",
        "linear_est = tf.estimator.LinearRegressor(feature_columns=feature_columns)\n",
        "\n",
        "linear_est.train(train_input_fn)\n",
        "result = linear_est.evaluate(eval_input_fn)\n",
        "\n",
        "clear_output()\n",
        "print(result)\n",
        "\n",
        "\n"
      ]
    }
  ],
  "metadata": {
    "colab": {
      "provenance": [],
      "authorship_tag": "ABX9TyNzfJ6Uphr5mB1ul2ZWGCQB",
      "include_colab_link": true
    },
    "kernelspec": {
      "display_name": "Python 3",
      "name": "python3"
    },
    "language_info": {
      "name": "python"
    }
  },
  "nbformat": 4,
  "nbformat_minor": 0
}